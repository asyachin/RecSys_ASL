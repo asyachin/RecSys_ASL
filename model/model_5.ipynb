{
 "nbformat": 4,
 "nbformat_minor": 0,
 "metadata": {
  "colab": {
   "provenance": [],
   "authorship_tag": "ABX9TyPxCu457x4sHO2/3ksMI6jW"
  },
  "kernelspec": {
   "name": "python3",
   "display_name": "Python 3"
  },
  "language_info": {
   "name": "python"
  },
  "widgets": {
   "application/vnd.jupyter.widget-state+json": {
    "163a9e253f184bf28417ead158cc2b87": {
     "model_module": "@jupyter-widgets/controls",
     "model_name": "HBoxModel",
     "model_module_version": "1.5.0",
     "state": {
      "_dom_classes": [],
      "_model_module": "@jupyter-widgets/controls",
      "_model_module_version": "1.5.0",
      "_model_name": "HBoxModel",
      "_view_count": null,
      "_view_module": "@jupyter-widgets/controls",
      "_view_module_version": "1.5.0",
      "_view_name": "HBoxView",
      "box_style": "",
      "children": [
       "IPY_MODEL_925b9ad54a444a94b606d1b0b7882b9f",
       "IPY_MODEL_b15ba2ca7556459db48138289c298b27",
       "IPY_MODEL_d6c92d95465647d79be2d9d0e2eb9c32"
      ],
      "layout": "IPY_MODEL_3040f1bfcfbe4e5789d7911be1711440"
     }
    },
    "925b9ad54a444a94b606d1b0b7882b9f": {
     "model_module": "@jupyter-widgets/controls",
     "model_name": "HTMLModel",
     "model_module_version": "1.5.0",
     "state": {
      "_dom_classes": [],
      "_model_module": "@jupyter-widgets/controls",
      "_model_module_version": "1.5.0",
      "_model_name": "HTMLModel",
      "_view_count": null,
      "_view_module": "@jupyter-widgets/controls",
      "_view_module_version": "1.5.0",
      "_view_name": "HTMLView",
      "description": "",
      "description_tooltip": null,
      "layout": "IPY_MODEL_a558feee74194b8c9ff72a0cbbd3fdef",
      "placeholder": "​",
      "style": "IPY_MODEL_5d466df04fe949fc835b2286eaf3b933",
      "value": "100%"
     }
    },
    "b15ba2ca7556459db48138289c298b27": {
     "model_module": "@jupyter-widgets/controls",
     "model_name": "FloatProgressModel",
     "model_module_version": "1.5.0",
     "state": {
      "_dom_classes": [],
      "_model_module": "@jupyter-widgets/controls",
      "_model_module_version": "1.5.0",
      "_model_name": "FloatProgressModel",
      "_view_count": null,
      "_view_module": "@jupyter-widgets/controls",
      "_view_module_version": "1.5.0",
      "_view_name": "ProgressView",
      "bar_style": "success",
      "description": "",
      "description_tooltip": null,
      "layout": "IPY_MODEL_975da5381ba549b0a18bf105648c1ab4",
      "max": 2,
      "min": 0,
      "orientation": "horizontal",
      "style": "IPY_MODEL_9fee907e2f224ad58b052cfb607d78da",
      "value": 2
     }
    },
    "d6c92d95465647d79be2d9d0e2eb9c32": {
     "model_module": "@jupyter-widgets/controls",
     "model_name": "HTMLModel",
     "model_module_version": "1.5.0",
     "state": {
      "_dom_classes": [],
      "_model_module": "@jupyter-widgets/controls",
      "_model_module_version": "1.5.0",
      "_model_name": "HTMLModel",
      "_view_count": null,
      "_view_module": "@jupyter-widgets/controls",
      "_view_module_version": "1.5.0",
      "_view_name": "HTMLView",
      "description": "",
      "description_tooltip": null,
      "layout": "IPY_MODEL_1c78ffe7012347879fc34a97bf8e9a70",
      "placeholder": "​",
      "style": "IPY_MODEL_6b9c1db70dc44cf89600a9f274f48fa4",
      "value": " 2/2 [00:02&lt;00:00,  1.35s/it]"
     }
    },
    "3040f1bfcfbe4e5789d7911be1711440": {
     "model_module": "@jupyter-widgets/base",
     "model_name": "LayoutModel",
     "model_module_version": "1.2.0",
     "state": {
      "_model_module": "@jupyter-widgets/base",
      "_model_module_version": "1.2.0",
      "_model_name": "LayoutModel",
      "_view_count": null,
      "_view_module": "@jupyter-widgets/base",
      "_view_module_version": "1.2.0",
      "_view_name": "LayoutView",
      "align_content": null,
      "align_items": null,
      "align_self": null,
      "border": null,
      "bottom": null,
      "display": null,
      "flex": null,
      "flex_flow": null,
      "grid_area": null,
      "grid_auto_columns": null,
      "grid_auto_flow": null,
      "grid_auto_rows": null,
      "grid_column": null,
      "grid_gap": null,
      "grid_row": null,
      "grid_template_areas": null,
      "grid_template_columns": null,
      "grid_template_rows": null,
      "height": null,
      "justify_content": null,
      "justify_items": null,
      "left": null,
      "margin": null,
      "max_height": null,
      "max_width": null,
      "min_height": null,
      "min_width": null,
      "object_fit": null,
      "object_position": null,
      "order": null,
      "overflow": null,
      "overflow_x": null,
      "overflow_y": null,
      "padding": null,
      "right": null,
      "top": null,
      "visibility": null,
      "width": null
     }
    },
    "a558feee74194b8c9ff72a0cbbd3fdef": {
     "model_module": "@jupyter-widgets/base",
     "model_name": "LayoutModel",
     "model_module_version": "1.2.0",
     "state": {
      "_model_module": "@jupyter-widgets/base",
      "_model_module_version": "1.2.0",
      "_model_name": "LayoutModel",
      "_view_count": null,
      "_view_module": "@jupyter-widgets/base",
      "_view_module_version": "1.2.0",
      "_view_name": "LayoutView",
      "align_content": null,
      "align_items": null,
      "align_self": null,
      "border": null,
      "bottom": null,
      "display": null,
      "flex": null,
      "flex_flow": null,
      "grid_area": null,
      "grid_auto_columns": null,
      "grid_auto_flow": null,
      "grid_auto_rows": null,
      "grid_column": null,
      "grid_gap": null,
      "grid_row": null,
      "grid_template_areas": null,
      "grid_template_columns": null,
      "grid_template_rows": null,
      "height": null,
      "justify_content": null,
      "justify_items": null,
      "left": null,
      "margin": null,
      "max_height": null,
      "max_width": null,
      "min_height": null,
      "min_width": null,
      "object_fit": null,
      "object_position": null,
      "order": null,
      "overflow": null,
      "overflow_x": null,
      "overflow_y": null,
      "padding": null,
      "right": null,
      "top": null,
      "visibility": null,
      "width": null
     }
    },
    "5d466df04fe949fc835b2286eaf3b933": {
     "model_module": "@jupyter-widgets/controls",
     "model_name": "DescriptionStyleModel",
     "model_module_version": "1.5.0",
     "state": {
      "_model_module": "@jupyter-widgets/controls",
      "_model_module_version": "1.5.0",
      "_model_name": "DescriptionStyleModel",
      "_view_count": null,
      "_view_module": "@jupyter-widgets/base",
      "_view_module_version": "1.2.0",
      "_view_name": "StyleView",
      "description_width": ""
     }
    },
    "975da5381ba549b0a18bf105648c1ab4": {
     "model_module": "@jupyter-widgets/base",
     "model_name": "LayoutModel",
     "model_module_version": "1.2.0",
     "state": {
      "_model_module": "@jupyter-widgets/base",
      "_model_module_version": "1.2.0",
      "_model_name": "LayoutModel",
      "_view_count": null,
      "_view_module": "@jupyter-widgets/base",
      "_view_module_version": "1.2.0",
      "_view_name": "LayoutView",
      "align_content": null,
      "align_items": null,
      "align_self": null,
      "border": null,
      "bottom": null,
      "display": null,
      "flex": null,
      "flex_flow": null,
      "grid_area": null,
      "grid_auto_columns": null,
      "grid_auto_flow": null,
      "grid_auto_rows": null,
      "grid_column": null,
      "grid_gap": null,
      "grid_row": null,
      "grid_template_areas": null,
      "grid_template_columns": null,
      "grid_template_rows": null,
      "height": null,
      "justify_content": null,
      "justify_items": null,
      "left": null,
      "margin": null,
      "max_height": null,
      "max_width": null,
      "min_height": null,
      "min_width": null,
      "object_fit": null,
      "object_position": null,
      "order": null,
      "overflow": null,
      "overflow_x": null,
      "overflow_y": null,
      "padding": null,
      "right": null,
      "top": null,
      "visibility": null,
      "width": null
     }
    },
    "9fee907e2f224ad58b052cfb607d78da": {
     "model_module": "@jupyter-widgets/controls",
     "model_name": "ProgressStyleModel",
     "model_module_version": "1.5.0",
     "state": {
      "_model_module": "@jupyter-widgets/controls",
      "_model_module_version": "1.5.0",
      "_model_name": "ProgressStyleModel",
      "_view_count": null,
      "_view_module": "@jupyter-widgets/base",
      "_view_module_version": "1.2.0",
      "_view_name": "StyleView",
      "bar_color": null,
      "description_width": ""
     }
    },
    "1c78ffe7012347879fc34a97bf8e9a70": {
     "model_module": "@jupyter-widgets/base",
     "model_name": "LayoutModel",
     "model_module_version": "1.2.0",
     "state": {
      "_model_module": "@jupyter-widgets/base",
      "_model_module_version": "1.2.0",
      "_model_name": "LayoutModel",
      "_view_count": null,
      "_view_module": "@jupyter-widgets/base",
      "_view_module_version": "1.2.0",
      "_view_name": "LayoutView",
      "align_content": null,
      "align_items": null,
      "align_self": null,
      "border": null,
      "bottom": null,
      "display": null,
      "flex": null,
      "flex_flow": null,
      "grid_area": null,
      "grid_auto_columns": null,
      "grid_auto_flow": null,
      "grid_auto_rows": null,
      "grid_column": null,
      "grid_gap": null,
      "grid_row": null,
      "grid_template_areas": null,
      "grid_template_columns": null,
      "grid_template_rows": null,
      "height": null,
      "justify_content": null,
      "justify_items": null,
      "left": null,
      "margin": null,
      "max_height": null,
      "max_width": null,
      "min_height": null,
      "min_width": null,
      "object_fit": null,
      "object_position": null,
      "order": null,
      "overflow": null,
      "overflow_x": null,
      "overflow_y": null,
      "padding": null,
      "right": null,
      "top": null,
      "visibility": null,
      "width": null
     }
    },
    "6b9c1db70dc44cf89600a9f274f48fa4": {
     "model_module": "@jupyter-widgets/controls",
     "model_name": "DescriptionStyleModel",
     "model_module_version": "1.5.0",
     "state": {
      "_model_module": "@jupyter-widgets/controls",
      "_model_module_version": "1.5.0",
      "_model_name": "DescriptionStyleModel",
      "_view_count": null,
      "_view_module": "@jupyter-widgets/base",
      "_view_module_version": "1.2.0",
      "_view_name": "StyleView",
      "description_width": ""
     }
    },
    "e6fe9615b590422f8e5ff85d96af89cb": {
     "model_module": "@jupyter-widgets/controls",
     "model_name": "HBoxModel",
     "model_module_version": "1.5.0",
     "state": {
      "_dom_classes": [],
      "_model_module": "@jupyter-widgets/controls",
      "_model_module_version": "1.5.0",
      "_model_name": "HBoxModel",
      "_view_count": null,
      "_view_module": "@jupyter-widgets/controls",
      "_view_module_version": "1.5.0",
      "_view_name": "HBoxView",
      "box_style": "",
      "children": [
       "IPY_MODEL_0c20063584c34dd1a2cb4b6c329aee59",
       "IPY_MODEL_c959242e02ea4dfc93f17bc39eca9483",
       "IPY_MODEL_65f9eacbd4df4f058fa0051524cc991e"
      ],
      "layout": "IPY_MODEL_f97641a9e9314726bc2a01c2d248eef0"
     }
    },
    "0c20063584c34dd1a2cb4b6c329aee59": {
     "model_module": "@jupyter-widgets/controls",
     "model_name": "HTMLModel",
     "model_module_version": "1.5.0",
     "state": {
      "_dom_classes": [],
      "_model_module": "@jupyter-widgets/controls",
      "_model_module_version": "1.5.0",
      "_model_name": "HTMLModel",
      "_view_count": null,
      "_view_module": "@jupyter-widgets/controls",
      "_view_module_version": "1.5.0",
      "_view_name": "HTMLView",
      "description": "",
      "description_tooltip": null,
      "layout": "IPY_MODEL_6e7ca923bd34407e8ffc7e106b3b2436",
      "placeholder": "​",
      "style": "IPY_MODEL_9ff57a8af04b4f7caf47693683bc2667",
      "value": "100%"
     }
    },
    "c959242e02ea4dfc93f17bc39eca9483": {
     "model_module": "@jupyter-widgets/controls",
     "model_name": "FloatProgressModel",
     "model_module_version": "1.5.0",
     "state": {
      "_dom_classes": [],
      "_model_module": "@jupyter-widgets/controls",
      "_model_module_version": "1.5.0",
      "_model_name": "FloatProgressModel",
      "_view_count": null,
      "_view_module": "@jupyter-widgets/controls",
      "_view_module_version": "1.5.0",
      "_view_name": "ProgressView",
      "bar_style": "success",
      "description": "",
      "description_tooltip": null,
      "layout": "IPY_MODEL_28e5e09a26784a15a1770e0dd40d7b9d",
      "max": 3,
      "min": 0,
      "orientation": "horizontal",
      "style": "IPY_MODEL_d8a6a41b3c6647ce82f7b80e4ead60a5",
      "value": 3
     }
    },
    "65f9eacbd4df4f058fa0051524cc991e": {
     "model_module": "@jupyter-widgets/controls",
     "model_name": "HTMLModel",
     "model_module_version": "1.5.0",
     "state": {
      "_dom_classes": [],
      "_model_module": "@jupyter-widgets/controls",
      "_model_module_version": "1.5.0",
      "_model_name": "HTMLModel",
      "_view_count": null,
      "_view_module": "@jupyter-widgets/controls",
      "_view_module_version": "1.5.0",
      "_view_name": "HTMLView",
      "description": "",
      "description_tooltip": null,
      "layout": "IPY_MODEL_19dec54041ea41efbb8af1d2e5d8fc6a",
      "placeholder": "​",
      "style": "IPY_MODEL_56e07d538bea4b58941206a4110e9ce1",
      "value": " 3/3 [01:32&lt;00:00, 30.53s/it]"
     }
    },
    "f97641a9e9314726bc2a01c2d248eef0": {
     "model_module": "@jupyter-widgets/base",
     "model_name": "LayoutModel",
     "model_module_version": "1.2.0",
     "state": {
      "_model_module": "@jupyter-widgets/base",
      "_model_module_version": "1.2.0",
      "_model_name": "LayoutModel",
      "_view_count": null,
      "_view_module": "@jupyter-widgets/base",
      "_view_module_version": "1.2.0",
      "_view_name": "LayoutView",
      "align_content": null,
      "align_items": null,
      "align_self": null,
      "border": null,
      "bottom": null,
      "display": null,
      "flex": null,
      "flex_flow": null,
      "grid_area": null,
      "grid_auto_columns": null,
      "grid_auto_flow": null,
      "grid_auto_rows": null,
      "grid_column": null,
      "grid_gap": null,
      "grid_row": null,
      "grid_template_areas": null,
      "grid_template_columns": null,
      "grid_template_rows": null,
      "height": null,
      "justify_content": null,
      "justify_items": null,
      "left": null,
      "margin": null,
      "max_height": null,
      "max_width": null,
      "min_height": null,
      "min_width": null,
      "object_fit": null,
      "object_position": null,
      "order": null,
      "overflow": null,
      "overflow_x": null,
      "overflow_y": null,
      "padding": null,
      "right": null,
      "top": null,
      "visibility": null,
      "width": null
     }
    },
    "6e7ca923bd34407e8ffc7e106b3b2436": {
     "model_module": "@jupyter-widgets/base",
     "model_name": "LayoutModel",
     "model_module_version": "1.2.0",
     "state": {
      "_model_module": "@jupyter-widgets/base",
      "_model_module_version": "1.2.0",
      "_model_name": "LayoutModel",
      "_view_count": null,
      "_view_module": "@jupyter-widgets/base",
      "_view_module_version": "1.2.0",
      "_view_name": "LayoutView",
      "align_content": null,
      "align_items": null,
      "align_self": null,
      "border": null,
      "bottom": null,
      "display": null,
      "flex": null,
      "flex_flow": null,
      "grid_area": null,
      "grid_auto_columns": null,
      "grid_auto_flow": null,
      "grid_auto_rows": null,
      "grid_column": null,
      "grid_gap": null,
      "grid_row": null,
      "grid_template_areas": null,
      "grid_template_columns": null,
      "grid_template_rows": null,
      "height": null,
      "justify_content": null,
      "justify_items": null,
      "left": null,
      "margin": null,
      "max_height": null,
      "max_width": null,
      "min_height": null,
      "min_width": null,
      "object_fit": null,
      "object_position": null,
      "order": null,
      "overflow": null,
      "overflow_x": null,
      "overflow_y": null,
      "padding": null,
      "right": null,
      "top": null,
      "visibility": null,
      "width": null
     }
    },
    "9ff57a8af04b4f7caf47693683bc2667": {
     "model_module": "@jupyter-widgets/controls",
     "model_name": "DescriptionStyleModel",
     "model_module_version": "1.5.0",
     "state": {
      "_model_module": "@jupyter-widgets/controls",
      "_model_module_version": "1.5.0",
      "_model_name": "DescriptionStyleModel",
      "_view_count": null,
      "_view_module": "@jupyter-widgets/base",
      "_view_module_version": "1.2.0",
      "_view_name": "StyleView",
      "description_width": ""
     }
    },
    "28e5e09a26784a15a1770e0dd40d7b9d": {
     "model_module": "@jupyter-widgets/base",
     "model_name": "LayoutModel",
     "model_module_version": "1.2.0",
     "state": {
      "_model_module": "@jupyter-widgets/base",
      "_model_module_version": "1.2.0",
      "_model_name": "LayoutModel",
      "_view_count": null,
      "_view_module": "@jupyter-widgets/base",
      "_view_module_version": "1.2.0",
      "_view_name": "LayoutView",
      "align_content": null,
      "align_items": null,
      "align_self": null,
      "border": null,
      "bottom": null,
      "display": null,
      "flex": null,
      "flex_flow": null,
      "grid_area": null,
      "grid_auto_columns": null,
      "grid_auto_flow": null,
      "grid_auto_rows": null,
      "grid_column": null,
      "grid_gap": null,
      "grid_row": null,
      "grid_template_areas": null,
      "grid_template_columns": null,
      "grid_template_rows": null,
      "height": null,
      "justify_content": null,
      "justify_items": null,
      "left": null,
      "margin": null,
      "max_height": null,
      "max_width": null,
      "min_height": null,
      "min_width": null,
      "object_fit": null,
      "object_position": null,
      "order": null,
      "overflow": null,
      "overflow_x": null,
      "overflow_y": null,
      "padding": null,
      "right": null,
      "top": null,
      "visibility": null,
      "width": null
     }
    },
    "d8a6a41b3c6647ce82f7b80e4ead60a5": {
     "model_module": "@jupyter-widgets/controls",
     "model_name": "ProgressStyleModel",
     "model_module_version": "1.5.0",
     "state": {
      "_model_module": "@jupyter-widgets/controls",
      "_model_module_version": "1.5.0",
      "_model_name": "ProgressStyleModel",
      "_view_count": null,
      "_view_module": "@jupyter-widgets/base",
      "_view_module_version": "1.2.0",
      "_view_name": "StyleView",
      "bar_color": null,
      "description_width": ""
     }
    },
    "19dec54041ea41efbb8af1d2e5d8fc6a": {
     "model_module": "@jupyter-widgets/base",
     "model_name": "LayoutModel",
     "model_module_version": "1.2.0",
     "state": {
      "_model_module": "@jupyter-widgets/base",
      "_model_module_version": "1.2.0",
      "_model_name": "LayoutModel",
      "_view_count": null,
      "_view_module": "@jupyter-widgets/base",
      "_view_module_version": "1.2.0",
      "_view_name": "LayoutView",
      "align_content": null,
      "align_items": null,
      "align_self": null,
      "border": null,
      "bottom": null,
      "display": null,
      "flex": null,
      "flex_flow": null,
      "grid_area": null,
      "grid_auto_columns": null,
      "grid_auto_flow": null,
      "grid_auto_rows": null,
      "grid_column": null,
      "grid_gap": null,
      "grid_row": null,
      "grid_template_areas": null,
      "grid_template_columns": null,
      "grid_template_rows": null,
      "height": null,
      "justify_content": null,
      "justify_items": null,
      "left": null,
      "margin": null,
      "max_height": null,
      "max_width": null,
      "min_height": null,
      "min_width": null,
      "object_fit": null,
      "object_position": null,
      "order": null,
      "overflow": null,
      "overflow_x": null,
      "overflow_y": null,
      "padding": null,
      "right": null,
      "top": null,
      "visibility": null,
      "width": null
     }
    },
    "56e07d538bea4b58941206a4110e9ce1": {
     "model_module": "@jupyter-widgets/controls",
     "model_name": "DescriptionStyleModel",
     "model_module_version": "1.5.0",
     "state": {
      "_model_module": "@jupyter-widgets/controls",
      "_model_module_version": "1.5.0",
      "_model_name": "DescriptionStyleModel",
      "_view_count": null,
      "_view_module": "@jupyter-widgets/base",
      "_view_module_version": "1.2.0",
      "_view_name": "StyleView",
      "description_width": ""
     }
    }
   }
  }
 },
 "cells": [
  {
   "cell_type": "code",
   "execution_count": 10,
   "metadata": {
    "colab": {
     "base_uri": "https://localhost:8080/"
    },
    "id": "inm5-ZStrZ9l",
    "executionInfo": {
     "status": "ok",
     "timestamp": 1669469046712,
     "user_tz": -60,
     "elapsed": 1690,
     "user": {
      "displayName": "Alexander Syachin",
      "userId": "01407196237518825368"
     }
    },
    "outputId": "61f87ff9-c6de-4f48-d784-53a9becabb02"
   },
   "outputs": [],
   "source": [
    "#from google.colab import drive\n",
    "#drive.mount('/content/drive')\n",
    "#PATH = '/content/drive/MyDrive/SkillFactory/DS_ML_data/'"
   ]
  },
  {
   "cell_type": "code",
   "execution_count": 10,
   "outputs": [],
   "source": [],
   "metadata": {
    "collapsed": false
   }
  },
  {
   "cell_type": "code",
   "source": [
    "#!pip install numpy\n",
    "#!pip install pandas\n",
    "#!pip install scipy\n",
    "#!pip install scikit-learn\n",
    "#!pip install --upgrade implicit\n",
    "#!pip install pickle"
   ],
   "metadata": {
    "id": "-DNXkVu6BMzL",
    "executionInfo": {
     "status": "ok",
     "timestamp": 1669469046713,
     "user_tz": -60,
     "elapsed": 5,
     "user": {
      "displayName": "Alexander Syachin",
      "userId": "01407196237518825368"
     }
    }
   },
   "execution_count": 11,
   "outputs": []
  },
  {
   "cell_type": "code",
   "execution_count": 11,
   "outputs": [],
   "source": [],
   "metadata": {
    "collapsed": false
   }
  },
  {
   "cell_type": "code",
   "source": [
    "import numpy as np\n",
    "import pandas as pd\n",
    "import os\n",
    "import scipy\n",
    "from scipy.sparse import coo_matrix\n",
    "import implicit\n",
    "from implicit.evaluation import mean_average_precision_at_k\n",
    "from implicit.als import AlternatingLeastSquares\n",
    "from sklearn.model_selection import train_test_split\n",
    "import pickle"
   ],
   "metadata": {
    "id": "ThwkHAgVrlr4",
    "executionInfo": {
     "status": "ok",
     "timestamp": 1669469046713,
     "user_tz": -60,
     "elapsed": 4,
     "user": {
      "displayName": "Alexander Syachin",
      "userId": "01407196237518825368"
     }
    }
   },
   "execution_count": 12,
   "outputs": []
  },
  {
   "cell_type": "code",
   "execution_count": 13,
   "outputs": [],
   "source": [
    "PATH = f'../data/'"
   ],
   "metadata": {
    "collapsed": false
   }
  },
  {
   "cell_type": "code",
   "execution_count": 14,
   "outputs": [
    {
     "data": {
      "text/plain": "'/home/as/PycharmProjects/RecSys_ASL/model'"
     },
     "execution_count": 14,
     "metadata": {},
     "output_type": "execute_result"
    }
   ],
   "source": [
    "pwd"
   ],
   "metadata": {
    "collapsed": false
   }
  },
  {
   "cell_type": "markdown",
   "source": [
    "# data upload"
   ],
   "metadata": {
    "id": "2cpikzCKNdih"
   }
  },
  {
   "cell_type": "code",
   "source": [
    "events = pd.read_csv(PATH + 'events.csv')"
   ],
   "metadata": {
    "id": "n-zRlbzernkO",
    "executionInfo": {
     "status": "ok",
     "timestamp": 1669469047735,
     "user_tz": -60,
     "elapsed": 1026,
     "user": {
      "displayName": "Alexander Syachin",
      "userId": "01407196237518825368"
     }
    }
   },
   "execution_count": 15,
   "outputs": []
  },
  {
   "cell_type": "code",
   "source": [
    "events.info()"
   ],
   "metadata": {
    "colab": {
     "base_uri": "https://localhost:8080/"
    },
    "id": "KOO8VRBqr6lX",
    "executionInfo": {
     "status": "ok",
     "timestamp": 1669469047736,
     "user_tz": -60,
     "elapsed": 8,
     "user": {
      "displayName": "Alexander Syachin",
      "userId": "01407196237518825368"
     }
    },
    "outputId": "7be87514-a849-41f3-cb18-d7fa389b0c90"
   },
   "execution_count": 16,
   "outputs": [
    {
     "name": "stdout",
     "output_type": "stream",
     "text": [
      "<class 'pandas.core.frame.DataFrame'>\n",
      "RangeIndex: 2756101 entries, 0 to 2756100\n",
      "Data columns (total 5 columns):\n",
      " #   Column         Dtype  \n",
      "---  ------         -----  \n",
      " 0   timestamp      int64  \n",
      " 1   visitorid      int64  \n",
      " 2   event          object \n",
      " 3   itemid         int64  \n",
      " 4   transactionid  float64\n",
      "dtypes: float64(1), int64(3), object(1)\n",
      "memory usage: 105.1+ MB\n"
     ]
    }
   ]
  },
  {
   "cell_type": "code",
   "source": [
    "events.head(3)"
   ],
   "metadata": {
    "colab": {
     "base_uri": "https://localhost:8080/",
     "height": 143
    },
    "id": "ct9iTSQmryQH",
    "executionInfo": {
     "status": "ok",
     "timestamp": 1669469047737,
     "user_tz": -60,
     "elapsed": 6,
     "user": {
      "displayName": "Alexander Syachin",
      "userId": "01407196237518825368"
     }
    },
    "outputId": "f45271e3-847a-423e-f690-faaf810299e1"
   },
   "execution_count": 17,
   "outputs": [
    {
     "data": {
      "text/plain": "       timestamp  visitorid event  itemid  transactionid\n0  1433221332117     257597  view  355908            NaN\n1  1433224214164     992329  view  248676            NaN\n2  1433221999827     111016  view  318965            NaN",
      "text/html": "<div>\n<style scoped>\n    .dataframe tbody tr th:only-of-type {\n        vertical-align: middle;\n    }\n\n    .dataframe tbody tr th {\n        vertical-align: top;\n    }\n\n    .dataframe thead th {\n        text-align: right;\n    }\n</style>\n<table border=\"1\" class=\"dataframe\">\n  <thead>\n    <tr style=\"text-align: right;\">\n      <th></th>\n      <th>timestamp</th>\n      <th>visitorid</th>\n      <th>event</th>\n      <th>itemid</th>\n      <th>transactionid</th>\n    </tr>\n  </thead>\n  <tbody>\n    <tr>\n      <th>0</th>\n      <td>1433221332117</td>\n      <td>257597</td>\n      <td>view</td>\n      <td>355908</td>\n      <td>NaN</td>\n    </tr>\n    <tr>\n      <th>1</th>\n      <td>1433224214164</td>\n      <td>992329</td>\n      <td>view</td>\n      <td>248676</td>\n      <td>NaN</td>\n    </tr>\n    <tr>\n      <th>2</th>\n      <td>1433221999827</td>\n      <td>111016</td>\n      <td>view</td>\n      <td>318965</td>\n      <td>NaN</td>\n    </tr>\n  </tbody>\n</table>\n</div>"
     },
     "execution_count": 17,
     "metadata": {},
     "output_type": "execute_result"
    }
   ]
  },
  {
   "cell_type": "code",
   "source": [
    "#object lables encoding\n",
    "events.event.replace('view', '1', inplace=True)\n",
    "events.event.replace('addtocart', '2', inplace=True)\n",
    "events.event.replace('transaction', '3', inplace=True)\n",
    "events['event'] = events.event.astype(int)"
   ],
   "metadata": {
    "id": "duLgsM02r4YY",
    "executionInfo": {
     "status": "ok",
     "timestamp": 1669469048013,
     "user_tz": -60,
     "elapsed": 281,
     "user": {
      "displayName": "Alexander Syachin",
      "userId": "01407196237518825368"
     }
    }
   },
   "execution_count": 18,
   "outputs": []
  },
  {
   "cell_type": "code",
   "source": [
    "#definition of valid users, who have not only looked up the items, but also have bought\n",
    "viewed_users = events[events['event'] == 1]['visitorid']\n",
    "bought_users = events[events['event'] == 3]['visitorid']\n",
    "users = viewed_users[viewed_users.isin(bought_users)].unique()\n",
    "print(f' {len(users)}  actual users IDs which have not only viewed but also bought the items in the sesions of the dataset')"
   ],
   "metadata": {
    "colab": {
     "base_uri": "https://localhost:8080/"
    },
    "id": "cKDPXPLwwTjc",
    "executionInfo": {
     "status": "ok",
     "timestamp": 1669469048344,
     "user_tz": -60,
     "elapsed": 333,
     "user": {
      "displayName": "Alexander Syachin",
      "userId": "01407196237518825368"
     }
    },
    "outputId": "580cdfd3-8b9f-4162-f627-74806d575d27"
   },
   "execution_count": 19,
   "outputs": [
    {
     "name": "stdout",
     "output_type": "stream",
     "text": [
      " 11291  actual users IDs which have not only viewed but also bought the items in the sesions of the dataset\n"
     ]
    }
   ]
  },
  {
   "cell_type": "code",
   "source": [
    "#filtered sessions by actual users ids\n",
    "events = events[events['visitorid'].isin(users)]\n",
    "items = events['itemid'].unique()\n",
    "print(f' {len(items)} item IDs in the datasets which have been actioned by actual users')\n",
    "print(f' {len(events)} actual datasets')"
   ],
   "metadata": {
    "colab": {
     "base_uri": "https://localhost:8080/"
    },
    "id": "VENHZlJv4Rxu",
    "executionInfo": {
     "status": "ok",
     "timestamp": 1669469048344,
     "user_tz": -60,
     "elapsed": 10,
     "user": {
      "displayName": "Alexander Syachin",
      "userId": "01407196237518825368"
     }
    },
    "outputId": "af3ba388-db9f-4104-d1ef-d5ae467276d3"
   },
   "execution_count": 20,
   "outputs": [
    {
     "name": "stdout",
     "output_type": "stream",
     "text": [
      " 36204 item IDs in the datasets which have been actioned by actual users\n",
      " 229708 actual datasets\n"
     ]
    }
   ]
  },
  {
   "cell_type": "code",
   "source": [
    "df = pd.DataFrame()\n",
    "\n",
    "top_3 = list(events.itemid.value_counts()[:3].index)\n",
    "\n",
    "user_ids = dict(list(enumerate(users)))\n",
    "item_ids = dict(list(enumerate(items)))\n",
    "\n",
    "user_map = {u: uidx for uidx, u in user_ids.items()}\n",
    "item_map = {i: iidx for iidx, i in item_ids.items()}\n",
    "\n",
    "df['user_id'] = events['visitorid'].map(user_map)\n",
    "df['item_id'] = events['itemid'].map(item_map)"
   ],
   "metadata": {
    "id": "k63fKU0R3VE7",
    "executionInfo": {
     "status": "ok",
     "timestamp": 1669469048345,
     "user_tz": -60,
     "elapsed": 9,
     "user": {
      "displayName": "Alexander Syachin",
      "userId": "01407196237518825368"
     }
    }
   },
   "execution_count": 21,
   "outputs": [
    {
     "name": "stderr",
     "output_type": "stream",
     "text": [
      "/tmp/ipykernel_17888/3737389713.py:3: FutureWarning: The behavior of `series[i:j]` with an integer-dtype index is deprecated. In a future version, this will be treated as *label-based* indexing, consistent with e.g. `series[i]` lookups. To retain the old behavior, use `series.iloc[i:j]`. To get the future behavior, use `series.loc[i:j]`.\n",
      "  top_3 = list(events.itemid.value_counts()[:3].index)\n"
     ]
    }
   ]
  },
  {
   "cell_type": "code",
   "execution_count": 22,
   "outputs": [
    {
     "data": {
      "text/plain": "[461686, 119736, 312728]"
     },
     "execution_count": 22,
     "metadata": {},
     "output_type": "execute_result"
    }
   ],
   "source": [
    "top_3"
   ],
   "metadata": {
    "collapsed": false
   }
  },
  {
   "cell_type": "markdown",
   "source": [
    "# create coo_matrix (user x item) and csr matrix (user x item)"
   ],
   "metadata": {
    "id": "sxG0x0UeAr8n"
   }
  },
  {
   "cell_type": "code",
   "source": [
    "row = df['user_id'].values\n",
    "col = df['item_id'].values\n",
    "data = np.ones(df.shape[0])\n",
    "coo_train = coo_matrix((data, (row, col)), shape=(len(users), len(items)))\n",
    "coo_train"
   ],
   "metadata": {
    "colab": {
     "base_uri": "https://localhost:8080/"
    },
    "id": "_14cA_n9AuUC",
    "executionInfo": {
     "status": "ok",
     "timestamp": 1669469048345,
     "user_tz": -60,
     "elapsed": 8,
     "user": {
      "displayName": "Alexander Syachin",
      "userId": "01407196237518825368"
     }
    },
    "outputId": "9dbe57c4-fdcc-4bfe-b8a3-2f1646e262e4"
   },
   "execution_count": 23,
   "outputs": [
    {
     "data": {
      "text/plain": "<11291x36204 sparse matrix of type '<class 'numpy.float64'>'\n\twith 229708 stored elements in COOrdinate format>"
     },
     "execution_count": 23,
     "metadata": {},
     "output_type": "execute_result"
    }
   ]
  },
  {
   "cell_type": "markdown",
   "source": [
    "## check the coo_ matrix"
   ],
   "metadata": {
    "id": "YM-QGhMzBcRO"
   }
  },
  {
   "cell_type": "code",
   "source": [
    "%%time\n",
    "model = implicit.als.AlternatingLeastSquares(factors=10, iterations=2)\n",
    "model.fit(coo_train)"
   ],
   "metadata": {
    "colab": {
     "base_uri": "https://localhost:8080/",
     "height": 122,
     "referenced_widgets": [
      "163a9e253f184bf28417ead158cc2b87",
      "925b9ad54a444a94b606d1b0b7882b9f",
      "b15ba2ca7556459db48138289c298b27",
      "d6c92d95465647d79be2d9d0e2eb9c32",
      "3040f1bfcfbe4e5789d7911be1711440",
      "a558feee74194b8c9ff72a0cbbd3fdef",
      "5d466df04fe949fc835b2286eaf3b933",
      "975da5381ba549b0a18bf105648c1ab4",
      "9fee907e2f224ad58b052cfb607d78da",
      "1c78ffe7012347879fc34a97bf8e9a70",
      "6b9c1db70dc44cf89600a9f274f48fa4"
     ]
    },
    "id": "WfrzwUfnAuWy",
    "executionInfo": {
     "status": "ok",
     "timestamp": 1669469051005,
     "user_tz": -60,
     "elapsed": 2666,
     "user": {
      "displayName": "Alexander Syachin",
      "userId": "01407196237518825368"
     }
    },
    "outputId": "b050dcc2-88af-4ba8-82cd-61d5f59be27b"
   },
   "execution_count": 24,
   "outputs": [
    {
     "name": "stderr",
     "output_type": "stream",
     "text": [
      "/home/as/PycharmProjects/RecSys_ASL/venv/lib/python3.10/site-packages/implicit/utils.py:138: ParameterWarning: Method expects CSR input, and was passed coo_matrix instead. Converting to CSR took 0.021001815795898438 seconds\n",
      "  warnings.warn(\n"
     ]
    },
    {
     "data": {
      "text/plain": "  0%|          | 0/2 [00:00<?, ?it/s]",
      "application/vnd.jupyter.widget-view+json": {
       "version_major": 2,
       "version_minor": 0,
       "model_id": "8fa0a0d9ef0a4471aaf110911cf6233d"
      }
     },
     "metadata": {},
     "output_type": "display_data"
    },
    {
     "name": "stdout",
     "output_type": "stream",
     "text": [
      "CPU times: user 2.53 s, sys: 5.38 s, total: 7.91 s\n",
      "Wall time: 601 ms\n"
     ]
    }
   ]
  },
  {
   "cell_type": "markdown",
   "source": [
    "# model & validation"
   ],
   "metadata": {
    "id": "sZrzME_gBjWQ"
   }
  },
  {
   "cell_type": "code",
   "source": [
    "def to_user_item_coo(df):\n",
    "    \"\"\" Turn a dataframe with transactions into a COO sparse items x users matrix\"\"\"\n",
    "    row = df['user_id'].values\n",
    "    col = df['item_id'].values\n",
    "    data = np.ones(df.shape[0])\n",
    "    coo = coo_matrix((data, (row, col)), shape=(len(users), len(items)))\n",
    "    return coo"
   ],
   "metadata": {
    "id": "Z8gv01kWH4VA",
    "executionInfo": {
     "status": "ok",
     "timestamp": 1669469051005,
     "user_tz": -60,
     "elapsed": 9,
     "user": {
      "displayName": "Alexander Syachin",
      "userId": "01407196237518825368"
     }
    }
   },
   "execution_count": 25,
   "outputs": []
  },
  {
   "cell_type": "code",
   "source": [
    "def get_val_matrices(df, test_size= 0.2):\n",
    "    \"\"\" Split into training and validation and create various matrices\n",
    "        \n",
    "        Returns a dictionary with the following keys:\n",
    "            coo_train: training data in COO sparse format and as (users x items)\n",
    "            csr_train: training data in CSR sparse format and as (users x items)\n",
    "            csr_val:  validation data in CSR sparse format and as (users x items)\n",
    "    \n",
    "    \"\"\"\n",
    "    df_train, df_val = train_test_split(df, test_size= test_size, shuffle=False)\n",
    "\n",
    "\n",
    "    coo_train = to_user_item_coo(df_train)\n",
    "    coo_val = to_user_item_coo(df_val)\n",
    "\n",
    "    csr_train = coo_train.tocsr()\n",
    "    csr_val = coo_val.tocsr()\n",
    "    \n",
    "    return {'coo_train': coo_train,\n",
    "            'csr_train': csr_train,\n",
    "            'csr_val': csr_val\n",
    "          }"
   ],
   "metadata": {
    "id": "XT8SZjhkB_uj",
    "executionInfo": {
     "status": "ok",
     "timestamp": 1669469051005,
     "user_tz": -60,
     "elapsed": 9,
     "user": {
      "displayName": "Alexander Syachin",
      "userId": "01407196237518825368"
     }
    }
   },
   "execution_count": 26,
   "outputs": []
  },
  {
   "cell_type": "code",
   "source": [
    "def validate(matrices, factors=200, iterations=20, regularization=0.01, show_progress=True):\n",
    "    \"\"\" Train an ALS model with <<factors>> (embeddings dimension) \n",
    "    for <<iterations>> over matrices and validate with MAP@12\n",
    "    \"\"\"\n",
    "    coo_train, csr_train, csr_val = matrices['coo_train'], matrices['csr_train'], matrices['csr_val']\n",
    "    \n",
    "    model = implicit.als.AlternatingLeastSquares(factors=factors, \n",
    "                                                 iterations=iterations, \n",
    "                                                 regularization=regularization, \n",
    "                                                 random_state=42)\n",
    "    model.fit(coo_train, show_progress=show_progress)\n",
    "    \n",
    "    # The MAPK by implicit doesn't allow to calculate allowing repeated items, which is the case.\n",
    "    # TODO: change MAP@12 to a library that allows repeated items in prediction\n",
    "    map12 = mean_average_precision_at_k(model, csr_train, csr_val, K=12, show_progress=show_progress, num_threads=4)\n",
    "    print(f\"Factors: {factors:>3} - Iterations: {iterations:>2} - Regularization: {regularization:4.3f} ==> MAP@12: {map12:6.5f}\")\n",
    "    return map12"
   ],
   "metadata": {
    "id": "_Kyb5s_EH2Rg",
    "executionInfo": {
     "status": "ok",
     "timestamp": 1669469051006,
     "user_tz": -60,
     "elapsed": 9,
     "user": {
      "displayName": "Alexander Syachin",
      "userId": "01407196237518825368"
     }
    }
   },
   "execution_count": 27,
   "outputs": []
  },
  {
   "cell_type": "code",
   "source": [
    "matrices = get_val_matrices(df)"
   ],
   "metadata": {
    "id": "ChwfhrhqLDXV",
    "executionInfo": {
     "status": "ok",
     "timestamp": 1669469051006,
     "user_tz": -60,
     "elapsed": 9,
     "user": {
      "displayName": "Alexander Syachin",
      "userId": "01407196237518825368"
     }
    }
   },
   "execution_count": 28,
   "outputs": []
  },
  {
   "cell_type": "markdown",
   "source": [
    "# tuning the parameters"
   ],
   "metadata": {
    "id": "Lh2VpqRCs6Kg"
   }
  },
  {
   "cell_type": "code",
   "source": [
    "\n",
    "%%time\n",
    "best_map12 = 0\n",
    "for factors in [40, 50, 60, 100, 200, 500, 1000]:\n",
    "    for iterations in [3, 12, 14, 15, 20]:\n",
    "        for regularization in [0.01]:\n",
    "            map12 = validate(matrices, factors, iterations, regularization, show_progress=False)\n",
    "            if map12 > best_map12:\n",
    "                best_map12 = map12\n",
    "                best_params = {'factors': factors, 'iterations': iterations, 'regularization': regularization}\n",
    "                print(f\"Best MAP@12 found. Updating: {best_params}\")\n"
   ],
   "metadata": {
    "colab": {
     "base_uri": "https://localhost:8080/",
     "height": 72
    },
    "id": "_051aAqKD3Ht",
    "executionInfo": {
     "status": "ok",
     "timestamp": 1669469051006,
     "user_tz": -60,
     "elapsed": 9,
     "user": {
      "displayName": "Alexander Syachin",
      "userId": "01407196237518825368"
     }
    },
    "outputId": "da6d9f8d-9761-437a-f76f-968e58a4529a"
   },
   "execution_count": 29,
   "outputs": [
    {
     "name": "stderr",
     "output_type": "stream",
     "text": [
      "/home/as/PycharmProjects/RecSys_ASL/venv/lib/python3.10/site-packages/implicit/utils.py:138: ParameterWarning: Method expects CSR input, and was passed coo_matrix instead. Converting to CSR took 0.01639580726623535 seconds\n",
      "  warnings.warn(\n"
     ]
    },
    {
     "name": "stdout",
     "output_type": "stream",
     "text": [
      "Factors:  40 - Iterations:  3 - Regularization: 0.010 ==> MAP@12: 0.00419\n",
      "Best MAP@12 found. Updating: {'factors': 40, 'iterations': 3, 'regularization': 0.01}\n"
     ]
    },
    {
     "name": "stderr",
     "output_type": "stream",
     "text": [
      "/home/as/PycharmProjects/RecSys_ASL/venv/lib/python3.10/site-packages/implicit/utils.py:138: ParameterWarning: Method expects CSR input, and was passed coo_matrix instead. Converting to CSR took 0.013576507568359375 seconds\n",
      "  warnings.warn(\n"
     ]
    },
    {
     "name": "stdout",
     "output_type": "stream",
     "text": [
      "Factors:  40 - Iterations: 12 - Regularization: 0.010 ==> MAP@12: 0.00458\n",
      "Best MAP@12 found. Updating: {'factors': 40, 'iterations': 12, 'regularization': 0.01}\n"
     ]
    },
    {
     "name": "stderr",
     "output_type": "stream",
     "text": [
      "/home/as/PycharmProjects/RecSys_ASL/venv/lib/python3.10/site-packages/implicit/utils.py:138: ParameterWarning: Method expects CSR input, and was passed coo_matrix instead. Converting to CSR took 0.012810707092285156 seconds\n",
      "  warnings.warn(\n"
     ]
    },
    {
     "name": "stdout",
     "output_type": "stream",
     "text": [
      "Factors:  40 - Iterations: 14 - Regularization: 0.010 ==> MAP@12: 0.00452\n"
     ]
    },
    {
     "name": "stderr",
     "output_type": "stream",
     "text": [
      "/home/as/PycharmProjects/RecSys_ASL/venv/lib/python3.10/site-packages/implicit/utils.py:138: ParameterWarning: Method expects CSR input, and was passed coo_matrix instead. Converting to CSR took 0.010361194610595703 seconds\n",
      "  warnings.warn(\n"
     ]
    },
    {
     "name": "stdout",
     "output_type": "stream",
     "text": [
      "Factors:  40 - Iterations: 15 - Regularization: 0.010 ==> MAP@12: 0.00448\n"
     ]
    },
    {
     "name": "stderr",
     "output_type": "stream",
     "text": [
      "/home/as/PycharmProjects/RecSys_ASL/venv/lib/python3.10/site-packages/implicit/utils.py:138: ParameterWarning: Method expects CSR input, and was passed coo_matrix instead. Converting to CSR took 0.010457515716552734 seconds\n",
      "  warnings.warn(\n"
     ]
    },
    {
     "name": "stdout",
     "output_type": "stream",
     "text": [
      "Factors:  40 - Iterations: 20 - Regularization: 0.010 ==> MAP@12: 0.00459\n",
      "Best MAP@12 found. Updating: {'factors': 40, 'iterations': 20, 'regularization': 0.01}\n"
     ]
    },
    {
     "name": "stderr",
     "output_type": "stream",
     "text": [
      "/home/as/PycharmProjects/RecSys_ASL/venv/lib/python3.10/site-packages/implicit/utils.py:138: ParameterWarning: Method expects CSR input, and was passed coo_matrix instead. Converting to CSR took 0.010473966598510742 seconds\n",
      "  warnings.warn(\n"
     ]
    },
    {
     "name": "stdout",
     "output_type": "stream",
     "text": [
      "Factors:  50 - Iterations:  3 - Regularization: 0.010 ==> MAP@12: 0.00487\n",
      "Best MAP@12 found. Updating: {'factors': 50, 'iterations': 3, 'regularization': 0.01}\n"
     ]
    },
    {
     "name": "stderr",
     "output_type": "stream",
     "text": [
      "/home/as/PycharmProjects/RecSys_ASL/venv/lib/python3.10/site-packages/implicit/utils.py:138: ParameterWarning: Method expects CSR input, and was passed coo_matrix instead. Converting to CSR took 0.010245800018310547 seconds\n",
      "  warnings.warn(\n"
     ]
    },
    {
     "name": "stdout",
     "output_type": "stream",
     "text": [
      "Factors:  50 - Iterations: 12 - Regularization: 0.010 ==> MAP@12: 0.00472\n"
     ]
    },
    {
     "name": "stderr",
     "output_type": "stream",
     "text": [
      "/home/as/PycharmProjects/RecSys_ASL/venv/lib/python3.10/site-packages/implicit/utils.py:138: ParameterWarning: Method expects CSR input, and was passed coo_matrix instead. Converting to CSR took 0.010423898696899414 seconds\n",
      "  warnings.warn(\n"
     ]
    },
    {
     "name": "stdout",
     "output_type": "stream",
     "text": [
      "Factors:  50 - Iterations: 14 - Regularization: 0.010 ==> MAP@12: 0.00468\n"
     ]
    },
    {
     "name": "stderr",
     "output_type": "stream",
     "text": [
      "/home/as/PycharmProjects/RecSys_ASL/venv/lib/python3.10/site-packages/implicit/utils.py:138: ParameterWarning: Method expects CSR input, and was passed coo_matrix instead. Converting to CSR took 0.010431766510009766 seconds\n",
      "  warnings.warn(\n"
     ]
    },
    {
     "name": "stdout",
     "output_type": "stream",
     "text": [
      "Factors:  50 - Iterations: 15 - Regularization: 0.010 ==> MAP@12: 0.00476\n"
     ]
    },
    {
     "name": "stderr",
     "output_type": "stream",
     "text": [
      "/home/as/PycharmProjects/RecSys_ASL/venv/lib/python3.10/site-packages/implicit/utils.py:138: ParameterWarning: Method expects CSR input, and was passed coo_matrix instead. Converting to CSR took 0.010426521301269531 seconds\n",
      "  warnings.warn(\n"
     ]
    },
    {
     "name": "stdout",
     "output_type": "stream",
     "text": [
      "Factors:  50 - Iterations: 20 - Regularization: 0.010 ==> MAP@12: 0.00503\n",
      "Best MAP@12 found. Updating: {'factors': 50, 'iterations': 20, 'regularization': 0.01}\n"
     ]
    },
    {
     "name": "stderr",
     "output_type": "stream",
     "text": [
      "/home/as/PycharmProjects/RecSys_ASL/venv/lib/python3.10/site-packages/implicit/utils.py:138: ParameterWarning: Method expects CSR input, and was passed coo_matrix instead. Converting to CSR took 0.010199785232543945 seconds\n",
      "  warnings.warn(\n"
     ]
    },
    {
     "name": "stdout",
     "output_type": "stream",
     "text": [
      "Factors:  60 - Iterations:  3 - Regularization: 0.010 ==> MAP@12: 0.00439\n"
     ]
    },
    {
     "name": "stderr",
     "output_type": "stream",
     "text": [
      "/home/as/PycharmProjects/RecSys_ASL/venv/lib/python3.10/site-packages/implicit/utils.py:138: ParameterWarning: Method expects CSR input, and was passed coo_matrix instead. Converting to CSR took 0.010528326034545898 seconds\n",
      "  warnings.warn(\n"
     ]
    },
    {
     "name": "stdout",
     "output_type": "stream",
     "text": [
      "Factors:  60 - Iterations: 12 - Regularization: 0.010 ==> MAP@12: 0.00475\n"
     ]
    },
    {
     "name": "stderr",
     "output_type": "stream",
     "text": [
      "/home/as/PycharmProjects/RecSys_ASL/venv/lib/python3.10/site-packages/implicit/utils.py:138: ParameterWarning: Method expects CSR input, and was passed coo_matrix instead. Converting to CSR took 0.010432004928588867 seconds\n",
      "  warnings.warn(\n"
     ]
    },
    {
     "name": "stdout",
     "output_type": "stream",
     "text": [
      "Factors:  60 - Iterations: 14 - Regularization: 0.010 ==> MAP@12: 0.00477\n"
     ]
    },
    {
     "name": "stderr",
     "output_type": "stream",
     "text": [
      "/home/as/PycharmProjects/RecSys_ASL/venv/lib/python3.10/site-packages/implicit/utils.py:138: ParameterWarning: Method expects CSR input, and was passed coo_matrix instead. Converting to CSR took 0.010532617568969727 seconds\n",
      "  warnings.warn(\n"
     ]
    },
    {
     "name": "stdout",
     "output_type": "stream",
     "text": [
      "Factors:  60 - Iterations: 15 - Regularization: 0.010 ==> MAP@12: 0.00479\n"
     ]
    },
    {
     "name": "stderr",
     "output_type": "stream",
     "text": [
      "/home/as/PycharmProjects/RecSys_ASL/venv/lib/python3.10/site-packages/implicit/utils.py:138: ParameterWarning: Method expects CSR input, and was passed coo_matrix instead. Converting to CSR took 0.010515451431274414 seconds\n",
      "  warnings.warn(\n"
     ]
    },
    {
     "name": "stdout",
     "output_type": "stream",
     "text": [
      "Factors:  60 - Iterations: 20 - Regularization: 0.010 ==> MAP@12: 0.00482\n"
     ]
    },
    {
     "name": "stderr",
     "output_type": "stream",
     "text": [
      "/home/as/PycharmProjects/RecSys_ASL/venv/lib/python3.10/site-packages/implicit/utils.py:138: ParameterWarning: Method expects CSR input, and was passed coo_matrix instead. Converting to CSR took 0.010474920272827148 seconds\n",
      "  warnings.warn(\n"
     ]
    },
    {
     "name": "stdout",
     "output_type": "stream",
     "text": [
      "Factors: 100 - Iterations:  3 - Regularization: 0.010 ==> MAP@12: 0.00505\n",
      "Best MAP@12 found. Updating: {'factors': 100, 'iterations': 3, 'regularization': 0.01}\n"
     ]
    },
    {
     "name": "stderr",
     "output_type": "stream",
     "text": [
      "/home/as/PycharmProjects/RecSys_ASL/venv/lib/python3.10/site-packages/implicit/utils.py:138: ParameterWarning: Method expects CSR input, and was passed coo_matrix instead. Converting to CSR took 0.013515233993530273 seconds\n",
      "  warnings.warn(\n"
     ]
    },
    {
     "name": "stdout",
     "output_type": "stream",
     "text": [
      "Factors: 100 - Iterations: 12 - Regularization: 0.010 ==> MAP@12: 0.00543\n",
      "Best MAP@12 found. Updating: {'factors': 100, 'iterations': 12, 'regularization': 0.01}\n"
     ]
    },
    {
     "name": "stderr",
     "output_type": "stream",
     "text": [
      "/home/as/PycharmProjects/RecSys_ASL/venv/lib/python3.10/site-packages/implicit/utils.py:138: ParameterWarning: Method expects CSR input, and was passed coo_matrix instead. Converting to CSR took 0.010506629943847656 seconds\n",
      "  warnings.warn(\n"
     ]
    },
    {
     "name": "stdout",
     "output_type": "stream",
     "text": [
      "Factors: 100 - Iterations: 14 - Regularization: 0.010 ==> MAP@12: 0.00545\n",
      "Best MAP@12 found. Updating: {'factors': 100, 'iterations': 14, 'regularization': 0.01}\n"
     ]
    },
    {
     "name": "stderr",
     "output_type": "stream",
     "text": [
      "/home/as/PycharmProjects/RecSys_ASL/venv/lib/python3.10/site-packages/implicit/utils.py:138: ParameterWarning: Method expects CSR input, and was passed coo_matrix instead. Converting to CSR took 0.010452508926391602 seconds\n",
      "  warnings.warn(\n"
     ]
    },
    {
     "name": "stdout",
     "output_type": "stream",
     "text": [
      "Factors: 100 - Iterations: 15 - Regularization: 0.010 ==> MAP@12: 0.00544\n"
     ]
    },
    {
     "name": "stderr",
     "output_type": "stream",
     "text": [
      "/home/as/PycharmProjects/RecSys_ASL/venv/lib/python3.10/site-packages/implicit/utils.py:138: ParameterWarning: Method expects CSR input, and was passed coo_matrix instead. Converting to CSR took 0.010432243347167969 seconds\n",
      "  warnings.warn(\n"
     ]
    },
    {
     "name": "stdout",
     "output_type": "stream",
     "text": [
      "Factors: 100 - Iterations: 20 - Regularization: 0.010 ==> MAP@12: 0.00540\n"
     ]
    },
    {
     "name": "stderr",
     "output_type": "stream",
     "text": [
      "/home/as/PycharmProjects/RecSys_ASL/venv/lib/python3.10/site-packages/implicit/utils.py:138: ParameterWarning: Method expects CSR input, and was passed coo_matrix instead. Converting to CSR took 0.01057744026184082 seconds\n",
      "  warnings.warn(\n"
     ]
    },
    {
     "name": "stdout",
     "output_type": "stream",
     "text": [
      "Factors: 200 - Iterations:  3 - Regularization: 0.010 ==> MAP@12: 0.00596\n",
      "Best MAP@12 found. Updating: {'factors': 200, 'iterations': 3, 'regularization': 0.01}\n"
     ]
    },
    {
     "name": "stderr",
     "output_type": "stream",
     "text": [
      "/home/as/PycharmProjects/RecSys_ASL/venv/lib/python3.10/site-packages/implicit/utils.py:138: ParameterWarning: Method expects CSR input, and was passed coo_matrix instead. Converting to CSR took 0.01139068603515625 seconds\n",
      "  warnings.warn(\n"
     ]
    },
    {
     "name": "stdout",
     "output_type": "stream",
     "text": [
      "Factors: 200 - Iterations: 12 - Regularization: 0.010 ==> MAP@12: 0.00595\n"
     ]
    },
    {
     "name": "stderr",
     "output_type": "stream",
     "text": [
      "/home/as/PycharmProjects/RecSys_ASL/venv/lib/python3.10/site-packages/implicit/utils.py:138: ParameterWarning: Method expects CSR input, and was passed coo_matrix instead. Converting to CSR took 0.010425806045532227 seconds\n",
      "  warnings.warn(\n"
     ]
    },
    {
     "name": "stdout",
     "output_type": "stream",
     "text": [
      "Factors: 200 - Iterations: 14 - Regularization: 0.010 ==> MAP@12: 0.00590\n"
     ]
    },
    {
     "name": "stderr",
     "output_type": "stream",
     "text": [
      "/home/as/PycharmProjects/RecSys_ASL/venv/lib/python3.10/site-packages/implicit/utils.py:138: ParameterWarning: Method expects CSR input, and was passed coo_matrix instead. Converting to CSR took 0.013638973236083984 seconds\n",
      "  warnings.warn(\n"
     ]
    },
    {
     "name": "stdout",
     "output_type": "stream",
     "text": [
      "Factors: 200 - Iterations: 15 - Regularization: 0.010 ==> MAP@12: 0.00588\n"
     ]
    },
    {
     "name": "stderr",
     "output_type": "stream",
     "text": [
      "/home/as/PycharmProjects/RecSys_ASL/venv/lib/python3.10/site-packages/implicit/utils.py:138: ParameterWarning: Method expects CSR input, and was passed coo_matrix instead. Converting to CSR took 0.010614871978759766 seconds\n",
      "  warnings.warn(\n"
     ]
    },
    {
     "name": "stdout",
     "output_type": "stream",
     "text": [
      "Factors: 200 - Iterations: 20 - Regularization: 0.010 ==> MAP@12: 0.00607\n",
      "Best MAP@12 found. Updating: {'factors': 200, 'iterations': 20, 'regularization': 0.01}\n"
     ]
    },
    {
     "name": "stderr",
     "output_type": "stream",
     "text": [
      "/home/as/PycharmProjects/RecSys_ASL/venv/lib/python3.10/site-packages/implicit/utils.py:138: ParameterWarning: Method expects CSR input, and was passed coo_matrix instead. Converting to CSR took 0.010700464248657227 seconds\n",
      "  warnings.warn(\n"
     ]
    },
    {
     "name": "stdout",
     "output_type": "stream",
     "text": [
      "Factors: 500 - Iterations:  3 - Regularization: 0.010 ==> MAP@12: 0.00706\n",
      "Best MAP@12 found. Updating: {'factors': 500, 'iterations': 3, 'regularization': 0.01}\n"
     ]
    },
    {
     "name": "stderr",
     "output_type": "stream",
     "text": [
      "/home/as/PycharmProjects/RecSys_ASL/venv/lib/python3.10/site-packages/implicit/utils.py:138: ParameterWarning: Method expects CSR input, and was passed coo_matrix instead. Converting to CSR took 0.010509967803955078 seconds\n",
      "  warnings.warn(\n"
     ]
    },
    {
     "name": "stdout",
     "output_type": "stream",
     "text": [
      "Factors: 500 - Iterations: 12 - Regularization: 0.010 ==> MAP@12: 0.00670\n"
     ]
    },
    {
     "name": "stderr",
     "output_type": "stream",
     "text": [
      "/home/as/PycharmProjects/RecSys_ASL/venv/lib/python3.10/site-packages/implicit/utils.py:138: ParameterWarning: Method expects CSR input, and was passed coo_matrix instead. Converting to CSR took 0.010566473007202148 seconds\n",
      "  warnings.warn(\n"
     ]
    },
    {
     "name": "stdout",
     "output_type": "stream",
     "text": [
      "Factors: 500 - Iterations: 14 - Regularization: 0.010 ==> MAP@12: 0.00661\n"
     ]
    },
    {
     "name": "stderr",
     "output_type": "stream",
     "text": [
      "/home/as/PycharmProjects/RecSys_ASL/venv/lib/python3.10/site-packages/implicit/utils.py:138: ParameterWarning: Method expects CSR input, and was passed coo_matrix instead. Converting to CSR took 0.01395416259765625 seconds\n",
      "  warnings.warn(\n"
     ]
    },
    {
     "name": "stdout",
     "output_type": "stream",
     "text": [
      "Factors: 500 - Iterations: 15 - Regularization: 0.010 ==> MAP@12: 0.00654\n"
     ]
    },
    {
     "name": "stderr",
     "output_type": "stream",
     "text": [
      "/home/as/PycharmProjects/RecSys_ASL/venv/lib/python3.10/site-packages/implicit/utils.py:138: ParameterWarning: Method expects CSR input, and was passed coo_matrix instead. Converting to CSR took 0.017252445220947266 seconds\n",
      "  warnings.warn(\n"
     ]
    },
    {
     "name": "stdout",
     "output_type": "stream",
     "text": [
      "Factors: 500 - Iterations: 20 - Regularization: 0.010 ==> MAP@12: 0.00632\n"
     ]
    },
    {
     "name": "stderr",
     "output_type": "stream",
     "text": [
      "/home/as/PycharmProjects/RecSys_ASL/venv/lib/python3.10/site-packages/implicit/utils.py:138: ParameterWarning: Method expects CSR input, and was passed coo_matrix instead. Converting to CSR took 0.01264810562133789 seconds\n",
      "  warnings.warn(\n"
     ]
    },
    {
     "name": "stdout",
     "output_type": "stream",
     "text": [
      "Factors: 1000 - Iterations:  3 - Regularization: 0.010 ==> MAP@12: 0.00723\n",
      "Best MAP@12 found. Updating: {'factors': 1000, 'iterations': 3, 'regularization': 0.01}\n"
     ]
    },
    {
     "name": "stderr",
     "output_type": "stream",
     "text": [
      "/home/as/PycharmProjects/RecSys_ASL/venv/lib/python3.10/site-packages/implicit/utils.py:138: ParameterWarning: Method expects CSR input, and was passed coo_matrix instead. Converting to CSR took 0.014200925827026367 seconds\n",
      "  warnings.warn(\n"
     ]
    },
    {
     "name": "stdout",
     "output_type": "stream",
     "text": [
      "Factors: 1000 - Iterations: 12 - Regularization: 0.010 ==> MAP@12: 0.00611\n"
     ]
    },
    {
     "name": "stderr",
     "output_type": "stream",
     "text": [
      "/home/as/PycharmProjects/RecSys_ASL/venv/lib/python3.10/site-packages/implicit/utils.py:138: ParameterWarning: Method expects CSR input, and was passed coo_matrix instead. Converting to CSR took 0.021015167236328125 seconds\n",
      "  warnings.warn(\n"
     ]
    },
    {
     "name": "stdout",
     "output_type": "stream",
     "text": [
      "Factors: 1000 - Iterations: 14 - Regularization: 0.010 ==> MAP@12: 0.00597\n"
     ]
    },
    {
     "name": "stderr",
     "output_type": "stream",
     "text": [
      "/home/as/PycharmProjects/RecSys_ASL/venv/lib/python3.10/site-packages/implicit/utils.py:138: ParameterWarning: Method expects CSR input, and was passed coo_matrix instead. Converting to CSR took 0.013307332992553711 seconds\n",
      "  warnings.warn(\n"
     ]
    },
    {
     "name": "stdout",
     "output_type": "stream",
     "text": [
      "Factors: 1000 - Iterations: 15 - Regularization: 0.010 ==> MAP@12: 0.00603\n"
     ]
    },
    {
     "name": "stderr",
     "output_type": "stream",
     "text": [
      "/home/as/PycharmProjects/RecSys_ASL/venv/lib/python3.10/site-packages/implicit/utils.py:138: ParameterWarning: Method expects CSR input, and was passed coo_matrix instead. Converting to CSR took 0.011473417282104492 seconds\n",
      "  warnings.warn(\n"
     ]
    },
    {
     "name": "stdout",
     "output_type": "stream",
     "text": [
      "Factors: 1000 - Iterations: 20 - Regularization: 0.010 ==> MAP@12: 0.00579\n",
      "CPU times: user 1h 31min 56s, sys: 1h 19min 57s, total: 2h 51min 54s\n",
      "Wall time: 11min 12s\n"
     ]
    }
   ]
  },
  {
   "cell_type": "code",
   "execution_count": 30,
   "outputs": [
    {
     "data": {
      "text/plain": "{'factors': 1000, 'iterations': 3, 'regularization': 0.01}"
     },
     "execution_count": 30,
     "metadata": {},
     "output_type": "execute_result"
    }
   ],
   "source": [
    "best_params"
   ],
   "metadata": {
    "collapsed": false
   }
  },
  {
   "cell_type": "code",
   "source": [
    "del matrices"
   ],
   "metadata": {
    "id": "J4MUoRMMAuZs",
    "executionInfo": {
     "status": "ok",
     "timestamp": 1669469051007,
     "user_tz": -60,
     "elapsed": 9,
     "user": {
      "displayName": "Alexander Syachin",
      "userId": "01407196237518825368"
     }
    }
   },
   "execution_count": 31,
   "outputs": []
  },
  {
   "cell_type": "markdown",
   "source": [
    "## training over the full dataset"
   ],
   "metadata": {
    "id": "FxwgiVjKLfSa"
   }
  },
  {
   "cell_type": "code",
   "source": [
    "coo_train = to_user_item_coo(df)\n",
    "csr_train = coo_train.tocsr()"
   ],
   "metadata": {
    "id": "V0aNqPPiLg_y",
    "executionInfo": {
     "status": "ok",
     "timestamp": 1669469051007,
     "user_tz": -60,
     "elapsed": 9,
     "user": {
      "displayName": "Alexander Syachin",
      "userId": "01407196237518825368"
     }
    }
   },
   "execution_count": 32,
   "outputs": []
  },
  {
   "cell_type": "code",
   "source": [
    "def train(coo_train, factors=200, iterations=15, regularization=0.01, show_progress=True):\n",
    "    model = implicit.als.AlternatingLeastSquares(factors=factors, \n",
    "                                                 iterations=iterations, \n",
    "                                                 regularization=regularization, \n",
    "                                                 random_state=42)\n",
    "    model.fit(coo_train, show_progress=show_progress)\n",
    "    return model"
   ],
   "metadata": {
    "id": "9KbMe8OiLocw",
    "executionInfo": {
     "status": "ok",
     "timestamp": 1669469051007,
     "user_tz": -60,
     "elapsed": 8,
     "user": {
      "displayName": "Alexander Syachin",
      "userId": "01407196237518825368"
     }
    }
   },
   "execution_count": 33,
   "outputs": []
  },
  {
   "cell_type": "code",
   "source": [
    "import json\n",
    "\n",
    "# Serialize of scipy.sparse.csr_matrix into file:\n",
    "#pickle.dump(csr_train, open(PATH + \"csr_train.pkl\",\"wb\"))\n",
    "\n",
    "# Read of scipy.sparse.csr_matrix from file:\n",
    "#csr_train = pickle.load(open(PATH + \"csr_train.pkl\",\"rb\"))\n",
    "\n",
    "# Serialize list of valid users into file:\n",
    "#with open(PATH + 'valid_users.npy', 'wb') as f:\n",
    "  #np.save(f, users)\n",
    "\n",
    "# Read list of valid users from file:\n",
    "#with open(PATH + 'valid_users.npy', 'rb') as f:\n",
    "  #users = np.load(f)\n",
    "\n",
    "# Serialize list of items into file:\n",
    "#with open(PATH + 'items.npy', 'wb') as f:\n",
    "  #np.save(f, items)\n",
    "\n",
    "# Read list of items from file:\n",
    "#with open(PATH + 'items.npy', 'rb') as f:\n",
    "  #items = np.load(f)\n",
    "\n",
    "# Serialize top_3 items into file:\n",
    "with open(PATH + 'top_3_items.npy', 'wb') as f:\n",
    "  np.save(f, top_3)\n",
    "\n",
    "# Read list of top_3 items from file:\n",
    "with open(PATH + 'top_3_items.npy', 'rb') as f:\n",
    "  top_3 = np.load(f)\n",
    "\n",
    "# Serialize best_params into file:\n",
    "#json.dump(best_params, open(PATH + \"best_params.json\", 'w' ) )\n",
    "\n",
    "# Read best_params from file:\n",
    "#best_params = json.load(open(PATH + \"best_params.json\" ) )"
   ],
   "metadata": {
    "id": "_QtCUykJkDvJ",
    "executionInfo": {
     "status": "ok",
     "timestamp": 1669469051243,
     "user_tz": -60,
     "elapsed": 244,
     "user": {
      "displayName": "Alexander Syachin",
      "userId": "01407196237518825368"
     }
    }
   },
   "execution_count": 34,
   "outputs": []
  },
  {
   "cell_type": "code",
   "source": [
    "model = train(coo_train, **best_params)"
   ],
   "metadata": {
    "colab": {
     "base_uri": "https://localhost:8080/",
     "height": 85,
     "referenced_widgets": [
      "e6fe9615b590422f8e5ff85d96af89cb",
      "0c20063584c34dd1a2cb4b6c329aee59",
      "c959242e02ea4dfc93f17bc39eca9483",
      "65f9eacbd4df4f058fa0051524cc991e",
      "f97641a9e9314726bc2a01c2d248eef0",
      "6e7ca923bd34407e8ffc7e106b3b2436",
      "9ff57a8af04b4f7caf47693683bc2667",
      "28e5e09a26784a15a1770e0dd40d7b9d",
      "d8a6a41b3c6647ce82f7b80e4ead60a5",
      "19dec54041ea41efbb8af1d2e5d8fc6a",
      "56e07d538bea4b58941206a4110e9ce1"
     ]
    },
    "id": "zFbt07VqCDMR",
    "executionInfo": {
     "status": "ok",
     "timestamp": 1669469144175,
     "user_tz": -60,
     "elapsed": 92933,
     "user": {
      "displayName": "Alexander Syachin",
      "userId": "01407196237518825368"
     }
    },
    "outputId": "1418c18b-3a88-4e39-f295-07af4fa08553"
   },
   "execution_count": 35,
   "outputs": [
    {
     "name": "stderr",
     "output_type": "stream",
     "text": [
      "/home/as/PycharmProjects/RecSys_ASL/venv/lib/python3.10/site-packages/implicit/utils.py:138: ParameterWarning: Method expects CSR input, and was passed coo_matrix instead. Converting to CSR took 0.018985271453857422 seconds\n",
      "  warnings.warn(\n"
     ]
    },
    {
     "data": {
      "text/plain": "  0%|          | 0/3 [00:00<?, ?it/s]",
      "application/vnd.jupyter.widget-view+json": {
       "version_major": 2,
       "version_minor": 0,
       "model_id": "de09ba3ea48340f893fa1ecb800455de"
      }
     },
     "metadata": {},
     "output_type": "display_data"
    }
   ]
  },
  {
   "cell_type": "code",
   "source": [
    "# Serialize model into file:\n",
    "#with open(PATH + 'model.pkl', 'wb') as saved_model:\n",
    "    #pickle.dump(model, saved_model)\n",
    "\n",
    "# Read model from file:\n",
    "#with open(PATH +'model.pkl', 'rb') as loaded_model:\n",
    "    #model = pickle.load(loaded_model)"
   ],
   "metadata": {
    "id": "GF8jlunmCmFk",
    "executionInfo": {
     "status": "ok",
     "timestamp": 1669469144951,
     "user_tz": -60,
     "elapsed": 787,
     "user": {
      "displayName": "Alexander Syachin",
      "userId": "01407196237518825368"
     }
    }
   },
   "execution_count": 36,
   "outputs": []
  },
  {
   "cell_type": "markdown",
   "source": [
    "# submission"
   ],
   "metadata": {
    "id": "1MV_joNYjhq0"
   }
  },
  {
   "cell_type": "code",
   "source": [
    "def submit(model, csr_train, submission_name=\"submissions.csv\"):\n",
    "    preds = []\n",
    "    batch_size = 2000\n",
    "    to_generate = np.arange(len(users))\n",
    "    for startidx in range(0, len(to_generate), batch_size):\n",
    "        batch = to_generate[startidx : startidx + batch_size]\n",
    "        ids, scores = model.recommend(batch, csr_train[batch], N=3, filter_already_liked_items=False)\n",
    "        for i, userid in enumerate(batch):\n",
    "            customer_id = user_ids[userid]\n",
    "            user_items = ids[i]\n",
    "            article_ids = [item_ids[item_id] for item_id in user_items]\n",
    "            preds.append((customer_id, ','.join(str(v) for v in article_ids)))\n",
    "\n",
    "    df_preds = pd.DataFrame(preds, columns=['user_id', 'recommended_items'])\n",
    "    df_preds.to_csv(PATH + submission_name, index=False)\n",
    "    \n",
    "    return df_preds"
   ],
   "metadata": {
    "id": "alG6idDFjcg-",
    "executionInfo": {
     "status": "ok",
     "timestamp": 1669470646313,
     "user_tz": -60,
     "elapsed": 278,
     "user": {
      "displayName": "Alexander Syachin",
      "userId": "01407196237518825368"
     }
    }
   },
   "execution_count": 37,
   "outputs": []
  },
  {
   "cell_type": "code",
   "source": [
    "def recommends(_user_id):\n",
    "      while True:\n",
    "        #_user_id = int(input(\"Enter user id (0 for exit):\\n\").strip(\" \\n\"))\n",
    "        if _user_id == 0:\n",
    "          print(\"Here is no user with user_id '0'\")\n",
    "          break\n",
    "\n",
    "        elif _user_id in users:\n",
    "          pred_df = submit(model, csr_train)\n",
    "          return pred_df[pred_df['user_id']== _user_id]\n",
    "        \n",
    "        else:\n",
    "          top_3 = list(events.itemid.value_counts()[:3].index)\n",
    "          df_preds = pd.DataFrame({'user_id': [_user_id], 'recommended_items': [top_3] })\n",
    "          return df_preds\n"
   ],
   "metadata": {
    "id": "6CVmR5DZjr_K",
    "executionInfo": {
     "status": "ok",
     "timestamp": 1669471092548,
     "user_tz": -60,
     "elapsed": 308,
     "user": {
      "displayName": "Alexander Syachin",
      "userId": "01407196237518825368"
     }
    }
   },
   "execution_count": 38,
   "outputs": []
  },
  {
   "cell_type": "code",
   "source": [
    "recommends(820159)"
   ],
   "metadata": {
    "colab": {
     "base_uri": "https://localhost:8080/"
    },
    "id": "oySTjoBWFWL1",
    "executionInfo": {
     "status": "ok",
     "timestamp": 1669471096415,
     "user_tz": -60,
     "elapsed": 2793,
     "user": {
      "displayName": "Alexander Syachin",
      "userId": "01407196237518825368"
     }
    },
    "outputId": "29f60a46-21cd-4b9f-9f98-edfabd20deb2"
   },
   "execution_count": 39,
   "outputs": [
    {
     "data": {
      "text/plain": "   user_id     recommended_items\n5   820159  309275,281211,398489",
      "text/html": "<div>\n<style scoped>\n    .dataframe tbody tr th:only-of-type {\n        vertical-align: middle;\n    }\n\n    .dataframe tbody tr th {\n        vertical-align: top;\n    }\n\n    .dataframe thead th {\n        text-align: right;\n    }\n</style>\n<table border=\"1\" class=\"dataframe\">\n  <thead>\n    <tr style=\"text-align: right;\">\n      <th></th>\n      <th>user_id</th>\n      <th>recommended_items</th>\n    </tr>\n  </thead>\n  <tbody>\n    <tr>\n      <th>5</th>\n      <td>820159</td>\n      <td>309275,281211,398489</td>\n    </tr>\n  </tbody>\n</table>\n</div>"
     },
     "execution_count": 39,
     "metadata": {},
     "output_type": "execute_result"
    }
   ]
  },
  {
   "cell_type": "code",
   "execution_count": 40,
   "outputs": [
    {
     "data": {
      "text/plain": "   user_id     recommended_items\n0  1076270   36035,262799,269430\n1   361387   43485,352541,116475\n2   712443  346655,445821,349140",
      "text/html": "<div>\n<style scoped>\n    .dataframe tbody tr th:only-of-type {\n        vertical-align: middle;\n    }\n\n    .dataframe tbody tr th {\n        vertical-align: top;\n    }\n\n    .dataframe thead th {\n        text-align: right;\n    }\n</style>\n<table border=\"1\" class=\"dataframe\">\n  <thead>\n    <tr style=\"text-align: right;\">\n      <th></th>\n      <th>user_id</th>\n      <th>recommended_items</th>\n    </tr>\n  </thead>\n  <tbody>\n    <tr>\n      <th>0</th>\n      <td>1076270</td>\n      <td>36035,262799,269430</td>\n    </tr>\n    <tr>\n      <th>1</th>\n      <td>361387</td>\n      <td>43485,352541,116475</td>\n    </tr>\n    <tr>\n      <th>2</th>\n      <td>712443</td>\n      <td>346655,445821,349140</td>\n    </tr>\n  </tbody>\n</table>\n</div>"
     },
     "execution_count": 40,
     "metadata": {},
     "output_type": "execute_result"
    }
   ],
   "source": [
    "pd.read_csv(PATH + 'submissions.csv').head(3)"
   ],
   "metadata": {
    "collapsed": false
   }
  },
  {
   "cell_type": "code",
   "execution_count": 41,
   "outputs": [
    {
     "data": {
      "text/plain": "array([461686, 119736, 312728])"
     },
     "execution_count": 41,
     "metadata": {},
     "output_type": "execute_result"
    }
   ],
   "source": [
    "top_3"
   ],
   "metadata": {
    "collapsed": false
   }
  },
  {
   "cell_type": "code",
   "execution_count": 41,
   "outputs": [],
   "source": [],
   "metadata": {
    "collapsed": false
   }
  }
 ]
}
